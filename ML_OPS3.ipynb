{
  "nbformat": 4,
  "nbformat_minor": 0,
  "metadata": {
    "colab": {
      "provenance": [],
      "authorship_tag": "ABX9TyNu9A4umavb68UYtUZIYawW",
      "include_colab_link": true
    },
    "kernelspec": {
      "name": "python3",
      "display_name": "Python 3"
    },
    "language_info": {
      "name": "python"
    }
  },
  "cells": [
    {
      "cell_type": "markdown",
      "metadata": {
        "id": "view-in-github",
        "colab_type": "text"
      },
      "source": [
        "<a href=\"https://colab.research.google.com/github/tushar4221/First-Repo/blob/main/ML_OPS3.ipynb\" target=\"_parent\"><img src=\"https://colab.research.google.com/assets/colab-badge.svg\" alt=\"Open In Colab\"/></a>"
      ]
    },
    {
      "cell_type": "code",
      "source": [
        "import pandas as pd\n",
        "import matplotlib.pyplot as plt\n",
        "from sklearn import datasets, svm, metrics\n",
        "from skimage.transform import rescale, resize, downscale_local_mean\n",
        "from sklearn.metrics import accuracy_score\n",
        "from skimage import data, color\n",
        "from PIL import Image\n",
        "from sklearn.model_selection import train_test_split"
      ],
      "metadata": {
        "id": "O5lD2274YF7c"
      },
      "execution_count": 36,
      "outputs": []
    },
    {
      "cell_type": "code",
      "source": [
        "gamma_list=[0.001, 0.1, 0.004, 0.0003, 0.00002]\n",
        "c_list = [0.1, 0.15, 2, 2.5, 10]\n"
      ],
      "metadata": {
        "id": "FWTTv_B0YGVU"
      },
      "execution_count": 37,
      "outputs": []
    },
    {
      "cell_type": "code",
      "source": [
        "h_param_comb = [{'gamma':g, 'C':c} for g in gamma_list for c in c_list]"
      ],
      "metadata": {
        "id": "zzk9r7_mMIev"
      },
      "execution_count": 38,
      "outputs": []
    },
    {
      "cell_type": "code",
      "source": [
        "train_frac = 0.8\n",
        "test_frac = 0.1\n",
        "dev_frac = 0.1"
      ],
      "metadata": {
        "id": "XERjO-KUMIbx"
      },
      "execution_count": 39,
      "outputs": []
    },
    {
      "cell_type": "code",
      "source": [
        "digits = datasets.load_digits()"
      ],
      "metadata": {
        "id": "S3YIOTO2MIY3"
      },
      "execution_count": 40,
      "outputs": []
    },
    {
      "cell_type": "code",
      "source": [
        "_,axes = plt.subplots(nrows=1, ncols=4, figsize=(10, 3))\n",
        "for ax, image, label in zip(axes, digits.images, digits.target):\n",
        "    ax.set_axis_off()\n",
        "    ax.imshow(image, cmap=plt.cm.gray_r, interpolation=\"nearest\")\n",
        "    ax.set_title(\"Training: %i\" % label)"
      ],
      "metadata": {
        "id": "2x-GNSQ_MIVu"
      },
      "execution_count": null,
      "outputs": []
    },
    {
      "cell_type": "code",
      "source": [
        "# Update images\n",
        "n_samples = len(digits.images)\n",
        "data = digits.images.reshape((n_samples, -1))\n",
        "\n",
        "digits = datasets.load_digits()\n",
        "data = digits.images.reshape((n_samples, -1))\n",
        "print(\"Digit\")\n",
        "plt.figure(1, figsize=(3, 3))\n",
        "plt.imshow(digits.images[0], cmap=plt.cm.gray_r, interpolation=\"nearest\")\n",
        "plt.show()\n",
        "print(digits.images[0].size)"
      ],
      "metadata": {
        "id": "eDLBxo_vMIRu"
      },
      "execution_count": null,
      "outputs": []
    },
    {
      "cell_type": "code",
      "source": [
        "dev_test_frac = 1-train_frac\n",
        "X_train, X_dev_test, y_train, y_dev_test = train_test_split(\n",
        "    data, digits.target, test_size=0.5, shuffle=True\n",
        ")\n",
        "\n",
        "X_test, X_dev, y_test, y_dev = train_test_split(\n",
        "    X_dev_test, y_dev_test, test_size=(dev_frac)/dev_test_frac, shuffle=True\n",
        ")"
      ],
      "metadata": {
        "id": "GrIybB0oMIJZ"
      },
      "execution_count": 43,
      "outputs": []
    },
    {
      "cell_type": "code",
      "source": [
        "df = pd.DataFrame()\n",
        "gm = []\n",
        "cr =[]\n",
        "acc =[]"
      ],
      "metadata": {
        "id": "2XOzORIcMcce"
      },
      "execution_count": 44,
      "outputs": []
    },
    {
      "cell_type": "code",
      "source": [
        "for gamma in gamma_list:\n",
        "    for c in c_list:\n",
        "        # SVM\n",
        "        clf = svm.SVC(gamma=gamma, C=c)\n",
        "            \n",
        "        clf.fit(X_train, y_train)\n",
        "\n",
        "        predicted = clf.predict(X_dev)\n",
        "        \n",
        "        score = accuracy_score(y_pred=predicted,y_true=y_dev)\n",
        "        \n",
        "        gm.append(gamma)\n",
        "        cr.append(c)\n",
        "        acc.append(score)"
      ],
      "metadata": {
        "id": "skIFJktkMcWG"
      },
      "execution_count": 45,
      "outputs": []
    },
    {
      "cell_type": "code",
      "source": [
        "df['Gamma'] = gm\n",
        "df['C']= cr\n",
        "df['Accuracy'] = acc\n",
        "\n",
        "print(df)"
      ],
      "metadata": {
        "id": "MrXdDXJaMcJP"
      },
      "execution_count": null,
      "outputs": []
    },
    {
      "cell_type": "code",
      "source": [
        "_, axes = plt.subplots(nrows=1, ncols=4, figsize=(10, 10))\n",
        "for ax, image, prediction in zip(axes, X_test, predicted):\n",
        "    ax.set_axis_off()\n",
        "    image = image.reshape(8,8)\n",
        "    ax.imshow(image, cmap=plt.cm.gray_r, interpolation=\"nearest\")\n",
        "    image_resized = resize(image, (int(image.shape[0] // 4), int(image.shape[1] // 2)),\n",
        "                       anti_aliasing=True)\n",
        "    \n",
        "    ax.set_title(f\"Prediction  : {prediction}\" f\"ImageSize: {image.size}\")\n",
        "    print(\"the image with the size\" f\"Prediction: {prediction}\" f\"image_resized :{image_resized}\\n\")"
      ],
      "metadata": {
        "id": "a_1QrNmkMruu"
      },
      "execution_count": null,
      "outputs": []
    },
    {
      "cell_type": "code",
      "source": [
        "accuracy= df['Accuracy']\n",
        "max = accuracy.max()\n",
        "index = accuracy.idxmax()\n",
        "\n",
        "print(\"The best test score is \", max,\" corresponding to hyperparameters gamma= \",gm[index],\" C=\",cr[index])\n",
        "plt.show()"
      ],
      "metadata": {
        "id": "qEq_cvcTMrnu"
      },
      "execution_count": null,
      "outputs": []
    },
    {
      "cell_type": "code",
      "source": [],
      "metadata": {
        "id": "CVkWDUCvMrf-"
      },
      "execution_count": null,
      "outputs": []
    }
  ]
}