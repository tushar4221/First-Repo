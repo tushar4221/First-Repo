{
  "nbformat": 4,
  "nbformat_minor": 0,
  "metadata": {
    "colab": {
      "provenance": [],
      "authorship_tag": "ABX9TyPwIcC3DCVvdYjpY9TkOa74",
      "include_colab_link": true
    },
    "kernelspec": {
      "name": "python3",
      "display_name": "Python 3"
    },
    "language_info": {
      "name": "python"
    }
  },
  "cells": [
    {
      "cell_type": "markdown",
      "metadata": {
        "id": "view-in-github",
        "colab_type": "text"
      },
      "source": [
        "<a href=\"https://colab.research.google.com/github/tushar4221/First-Repo/blob/main/Untitled18.ipynb\" target=\"_parent\"><img src=\"https://colab.research.google.com/assets/colab-badge.svg\" alt=\"Open In Colab\"/></a>"
      ]
    },
    {
      "cell_type": "code",
      "source": [
        "from sklearn import datasets, svm, metrics, tree\n",
        "import pdb\n",
        "\n",
        "from utils import (\n",
        "    preprocess_digits,\n",
        "    train_dev_test_split,\n",
        "    data_viz,\n",
        "    get_all_h_param_comb,\n",
        "    tune_and_save,\n",
        "    macro_f1\n",
        ")\n",
        "from joblib import dump, load\n",
        "\n",
        "train_frac, dev_frac, test_frac = 0.8, 0.1, 0.1\n",
        "assert train_frac + dev_frac + test_frac == 1.0\n",
        "\n",
        "# 1.Hyper Parameter range \n",
        "gamma_list = [0.01, 0.001, 0.0001, 0.005, 0.0005 ]\n",
        "c_list = [0.1, 0.2, 0.5, 0.7, 1, 2, 5, 7, 10]\n",
        "\n",
        "\n",
        "svm_params = {}\n",
        "svm_params[\"gamma\"] = gamma_list\n",
        "svm_params[\"C\"] = c_list\n",
        "svm_h_param_comb = get_all_h_param_comb(svm_params)\n",
        "\n",
        "max_depth_list = [2, 10, 20, 50, 100]\n",
        "\n",
        "dec_params = {}\n",
        "dec_params[\"max_depth\"] = max_depth_list\n",
        "dec_h_param_comb = get_all_h_param_comb(dec_params)\n",
        "\n",
        "h_param_comb = {\"svm\": svm_h_param_comb, \"decision_tree\": dec_h_param_comb}\n",
        "\n",
        "# PART: load dataset\n",
        "digits = datasets.load_digits()\n",
        "data_viz(digits)\n",
        "data, label = preprocess_digits(digits)\n",
        "\n",
        "del digits\n",
        "\n",
        "# Evaluation Metric\n",
        "metric_list = [metrics.accuracy_score, macro_f1]\n",
        "h_metric = metrics.accuracy_score\n",
        "\n",
        "n_cv = 5\n",
        "results = {}\n",
        "for n in range(n_cv):\n",
        "    x_train, y_train, x_dev, y_dev, x_test, y_test = train_dev_test_split(\n",
        "        data, label, train_frac, dev_frac\n",
        "    )\n",
        "    # PART: Model Processing\n",
        "    # classifier: SVM classifier\n",
        "    models_of_choice = {\n",
        "        \"svm\": svm.SVC(),\n",
        "        \"decision_tree\": tree.DecisionTreeClassifier(),\n",
        "    }\n",
        "    for clf_name in models_of_choice:\n",
        "        clf = models_of_choice[clf_name]\n",
        "        print(\"[{}] Running hyper param tuning for {}\".format(n,clf_name))\n",
        "        actual_model_path = tune_and_save(\n",
        "            clf, x_train, y_train, x_dev, y_dev, h_metric, h_param_comb[clf_name], model_path=None\n",
        "        )\n",
        "\n",
        "        # 2. Best Model\n",
        "        best_model = load(actual_model_path)\n",
        "\n",
        "        # PART: Get test set predictions\n",
        "        # Prediction \n",
        "        predicted = best_model.predict(x_test)\n",
        "        if not clf_name in results:\n",
        "            results[clf_name]=[]    \n",
        "\n",
        "        results[clf_name].append({m.__name__:m(y_pred=predicted, y_true=y_test) for m in metric_list})\n",
        "        # 4. Best model accuracy \n",
        "        # PART: Evaluation Metrics\n",
        "        print(\n",
        "            f\" classifier from Classification report {clf}:\\n\"\n",
        "            f\"{metrics.classification_report(y_test, predicted)}\\n\"\n",
        "        )\n",
        "\n",
        "print(results)\n"
      ],
      "metadata": {
        "id": "AmJe6iJIGNPV"
      },
      "execution_count": null,
      "outputs": []
    }
  ]
}